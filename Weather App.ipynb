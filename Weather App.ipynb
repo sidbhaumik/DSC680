{
 "cells": [
  {
   "cell_type": "code",
   "execution_count": 1,
   "metadata": {},
   "outputs": [
    {
     "name": "stdout",
     "output_type": "stream",
     "text": [
      "Welcome to Weather Channel!!!\n",
      "Access Current Weather Data & forecast for any US cities!!\n",
      "\n"
     ]
    }
   ],
   "source": [
    "import requests\n",
    "import json\n",
    "import time\n",
    "\n",
    "print('''Welcome to Weather Channel!!!\\nAccess Current Weather Data & forecast for any US cities!!\\n''')\n"
   ]
  },
  {
   "cell_type": "code",
   "execution_count": 2,
   "metadata": {},
   "outputs": [],
   "source": [
    "def main():\n",
    "    \"\"\"Main function takes the user input as zip code or city/country name to receive current/future weather forecast\"\"\"\n",
    "    url = 'https://api.openweathermap.org/data/2.5/weather'\n",
    "    url_ext = 'https://api.openweathermap.org/data/2.5/forecast'\n",
    "    location = input('\\nPlease enter the Zip Code or City, Country: ')\n",
    "    while True:\n",
    "        try:\n",
    "            weather_current(location, url)\n",
    "            weather_extended(location, url_ext)\n",
    "            print('')\n",
    "            more_weather()\n",
    "            break\n",
    "        except LookupError:\n",
    "            print('')\n",
    "            more_weather()\n",
    "            break"
   ]
  },
  {
   "cell_type": "code",
   "execution_count": 3,
   "metadata": {},
   "outputs": [],
   "source": [
    "def weather_current(location, url):\n",
    "    \"\"\"Makes a GET request to the url for current weather, verifies connection is made, parses and displays the data\"\"\"\n",
    "    if location.isdigit() is True:\n",
    "        query_params = {'zip': location, 'APPID': 'e0658f792164bea0f30488a83ec7f9c9'}\n",
    "    else:\n",
    "        query_params = {'q': location, 'APPID': 'e0658f792164bea0f30488a83ec7f9c9'}\n",
    "    response = requests.get(url, params=query_params, timeout=(5, 14))\n",
    "    try_web(response, location)\n",
    "    if response.status_code == 200:\n",
    "        print('Connected....Location Found')\n",
    "    current_parsed = json.loads(response.text)\n",
    "    current_formatted(current_parsed)"
   ]
  },
  {
   "cell_type": "code",
   "execution_count": 11,
   "metadata": {},
   "outputs": [],
   "source": [
    "def weather_extended(location, url_ext):\n",
    "    \"\"\"Makes a GET request to the url for extended forecast, parses and displays the data\"\"\"\n",
    "    if location.isdigit() is True:\n",
    "        query_params = {'zip': location, 'cnt': 16, 'APPID': 'af3008006e6d4caf44f8d3b922cdf469'}\n",
    "    else:\n",
    "        query_params = {'q': location, 'cnt': 16, 'APPID': 'af3008006e6d4caf44f8d3b922cdf469'}\n",
    "    response = requests.get(url_ext, params=query_params, timeout=(5, 14))\n",
    "    try_web(response, location)\n",
    "    ext_parsed = json.loads(response.text)\n",
    "    ext_formatted(ext_parsed)\n",
    "\n",
    "\n",
    "def convert_temp(temp):\n",
    "    \"\"\"Converts Kelvin temperatures to Fahrenheit and Celsius\"\"\"\n",
    "    f_degree = round((((temp - 273.15)*9)/5)+32)\n",
    "    c_degree = round(temp - 273.15)\n",
    "    return f'{f_degree}{chr(176)}F / {c_degree}{chr(176)}C'"
   ]
  },
  {
   "cell_type": "code",
   "execution_count": 12,
   "metadata": {},
   "outputs": [],
   "source": [
    "def try_web(response, location):\n",
    "    \"\"\"Try Except block to test the request was successful, additionally checking if the city or\n",
    "    zip code entered is valid by using 404 status code\"\"\"\n",
    "    try:\n",
    "        response.raise_for_status()\n",
    "    except requests.HTTPError as error0:\n",
    "        if response.status_code == 404:\n",
    "            if location.isdigit() is True:\n",
    "                print(f\"The zip code entered '{location}' was not found or is not valid.\")\n",
    "            else:\n",
    "                if location.__contains__(','):\n",
    "                    print(f\"The city entered '{location[0:-2].title() + location[-2:].upper()}' was not found.\")\n",
    "                else:\n",
    "                    print(f\"The city entered '{location.title()}' was not found.\")\n",
    "        else:\n",
    "            print('Even we do not have access to single digit zip codes.')\n",
    "            print(f'{error0}')\n",
    "    except requests.ConnectionError as error1:\n",
    "        print('Error Connecting')\n",
    "        print(error1)\n",
    "    except requests.Timeout as error2:\n",
    "        print('Timeout Error')\n",
    "        print(error2)\n",
    "    except requests.RequestException as error3:\n",
    "        print('Something Else Went Wrong')\n",
    "        print(error3)\n"
   ]
  },
  {
   "cell_type": "code",
   "execution_count": 13,
   "metadata": {},
   "outputs": [],
   "source": [
    "def current_formatted(parsed):\n",
    "    \"\"\"Decodes the JSON data, formats the time variables to match proper time zones, then formats the printable\n",
    "    output of the current weather\"\"\"\n",
    "    city = str(json.dumps(parsed['name'])).replace('\"', '')\n",
    "    country = str(json.dumps(parsed['sys']['country'])).replace('\"', '')\n",
    "    timezone = int(json.dumps(parsed['timezone']))\n",
    "    epoch_time = int(json.dumps(parsed['dt']))\n",
    "    true_time = epoch_time + timezone\n",
    "    current_time = time.strftime(\"%A, %b %d, %Y %I:%M %p (local time)\", time.gmtime(true_time))\n",
    "    temp = float(json.dumps(parsed['main']['temp']))\n",
    "    conditions = str(json.dumps(parsed['weather'][0]['description'])).replace('\"', '').title()\n",
    "    print(f'Weather Report for {city}, {country} on {current_time}:\\n'\n",
    "          f'Current Temperature {convert_temp(temp)}\\n'\n",
    "          f'Current Conditions: {conditions}\\n')"
   ]
  },
  {
   "cell_type": "code",
   "execution_count": 14,
   "metadata": {},
   "outputs": [],
   "source": [
    "def ext_formatted(parsed):\n",
    "    \"\"\"Decodes the JSON data, formats the time variables to match time to the time zones, then formats the printable\n",
    "    output of the extended forecast\"\"\"\n",
    "    print(f\"{'36 Hour Forecast':30}{'Temperature':22}{'Conditions'}\")\n",
    "    # For loop to pull the data for every six (6) hours, approximate 36 hour forecast data return\n",
    "    for i in range(1, 15, 2):\n",
    "        epoch_time = int(json.dumps(parsed['list'][i]['dt']))\n",
    "        timezone = int(json.dumps(parsed['city']['timezone']))\n",
    "        true_time = epoch_time + timezone\n",
    "        future_time = time.strftime(\"%a, %b %d %I:%M %p\", time.gmtime(true_time))\n",
    "        temp = float(json.dumps(parsed['list'][i]['main']['temp']))\n",
    "        conditions = str(json.dumps(parsed['list'][i]['weather'][0]['description'])).replace('\"', '').title()\n",
    "        print(f'{future_time:30}{convert_temp(temp):22}{conditions}')\n",
    "\n",
    "\n",
    "def more_weather():\n",
    "    \"\"\"Allows the user to look up another location or exit the program\"\"\"\n",
    "    option = str(input('Would you like to enter another location, Yes or No? ')).lower().strip()\n",
    "    # while loop for a yes selection or to exit the program (and to catch input errors)\n",
    "    while not (option == 'yes' or option == 'no'):\n",
    "        option = str(input('You did not enter a valid selection.\\n'\n",
    "                           'Please enter Yes to search another location or No to exit: ')).lower().strip()\n",
    "    if option == 'yes':\n",
    "        print('')\n",
    "        main()\n",
    "    if option == 'no':\n",
    "        print('Thank you for using our service. Goodbye')\n"
   ]
  },
  {
   "cell_type": "code",
   "execution_count": 15,
   "metadata": {},
   "outputs": [
    {
     "name": "stdout",
     "output_type": "stream",
     "text": [
      "\n",
      "Please enter the Zip Code or City, Country: 60173\n",
      "Connected....Location Found\n",
      "Weather Report for Schaumburg, US on Sunday, Feb 19, 2023 05:31 PM (local time):\n",
      "Current Temperature 46°F / 8°C\n",
      "Current Conditions: Clear Sky\n",
      "\n",
      "36 Hour Forecast              Temperature           Conditions\n",
      "Sun, Feb 19 09:00 PM          44°F / 6°C            Scattered Clouds\n",
      "Mon, Feb 20 03:00 AM          32°F / 0°C            Broken Clouds\n",
      "Mon, Feb 20 09:00 AM          34°F / 1°C            Scattered Clouds\n",
      "Mon, Feb 20 03:00 PM          45°F / 7°C            Scattered Clouds\n",
      "Mon, Feb 20 09:00 PM          40°F / 4°C            Overcast Clouds\n",
      "Tue, Feb 21 03:00 AM          34°F / 1°C            Overcast Clouds\n",
      "Tue, Feb 21 09:00 AM          29°F / -2°C           Clear Sky\n",
      "\n",
      "Would you like to enter another location, Yes or No? no\n",
      "Thank you for using our service. Goodbye\n"
     ]
    }
   ],
   "source": [
    "if __name__ == \"__main__\":\n",
    "    main()"
   ]
  },
  {
   "cell_type": "code",
   "execution_count": null,
   "metadata": {},
   "outputs": [],
   "source": []
  }
 ],
 "metadata": {
  "kernelspec": {
   "display_name": "Python 3 (ipykernel)",
   "language": "python",
   "name": "python3"
  },
  "language_info": {
   "codemirror_mode": {
    "name": "ipython",
    "version": 3
   },
   "file_extension": ".py",
   "mimetype": "text/x-python",
   "name": "python",
   "nbconvert_exporter": "python",
   "pygments_lexer": "ipython3",
   "version": "3.10.5"
  }
 },
 "nbformat": 4,
 "nbformat_minor": 4
}
